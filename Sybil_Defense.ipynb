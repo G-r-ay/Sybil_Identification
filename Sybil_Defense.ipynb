{
 "cells": [
  {
   "cell_type": "markdown",
   "metadata": {
    "slideshow": {
     "slide_type": "slide"
    }
   },
   "source": [
    "IMPORTS"
   ]
  },
  {
   "cell_type": "code",
   "execution_count": null,
   "metadata": {
    "slideshow": {
     "slide_type": "slide"
    }
   },
   "outputs": [],
   "source": [
    "import numpy as np\n",
    "from Scraping_script import get_address_info\n",
    "import pandas as pd\n",
    "from sklearn.preprocessing import LabelEncoder\n",
    "from sklearn.pipeline import Pipeline\n",
    "from datetime import datetime\n",
    "import nest_asyncio\n",
    "import asyncio\n",
    "import seaborn as sns\n",
    "from zksync_sdk import HttpJsonRPCTransport, ZkSyncProviderV01, network\n",
    "nest_asyncio.apply()\n",
    "from web3 import Web3\n",
    "le = LabelEncoder()"
   ]
  },
  {
   "cell_type": "markdown",
   "metadata": {},
   "source": [
    "Assigning Web3 Providers"
   ]
  },
  {
   "cell_type": "code",
   "execution_count": null,
   "metadata": {},
   "outputs": [],
   "source": [
    "alchemy_websocket_std = 'insert websocket provider link'\n",
    "w3_eth = Web3(Web3.WebsocketProvider(alchemy_websocket_std,websocket_timeout=None))\n",
    "print(w3_eth.isConnected())\n",
    "\n",
    "alchemy_websocket_polygon = 'insert websocket provider link'\n",
    "w3_poly = Web3(Web3.WebsocketProvider(alchemy_websocket_polygon,websocket_timeout=None))\n",
    "print(w3_poly.isConnected())\n",
    "\n",
    "quicknode_websocket_rinkeby = 'insert websocket provider link'\n",
    "w3_rk = Web3(Web3.WebsocketProvider(alchemy_websocket_polygon,websocket_timeout=None))\n",
    "print(w3_rk.isConnected())\n",
    "\n",
    "abi = '[{\"inputs\":[],\"name\":\"decimals\",\"outputs\":[{\"internalType\":\"uint8\",\"name\":\"\",\"type\":\"uint8\"}],\"stateMutability\":\"view\",\"type\":\"function\"},{\"inputs\":[],\"name\":\"description\",\"outputs\":[{\"internalType\":\"string\",\"name\":\"\",\"type\":\"string\"}],\"stateMutability\":\"view\",\"type\":\"function\"},{\"inputs\":[{\"internalType\":\"uint80\",\"name\":\"_roundId\",\"type\":\"uint80\"}],\"name\":\"getRoundData\",\"outputs\":[{\"internalType\":\"uint80\",\"name\":\"roundId\",\"type\":\"uint80\"},{\"internalType\":\"int256\",\"name\":\"answer\",\"type\":\"int256\"},{\"internalType\":\"uint256\",\"name\":\"startedAt\",\"type\":\"uint256\"},{\"internalType\":\"uint256\",\"name\":\"updatedAt\",\"type\":\"uint256\"},{\"internalType\":\"uint80\",\"name\":\"answeredInRound\",\"type\":\"uint80\"}],\"stateMutability\":\"view\",\"type\":\"function\"},{\"inputs\":[],\"name\":\"latestRoundData\",\"outputs\":[{\"internalType\":\"uint80\",\"name\":\"roundId\",\"type\":\"uint80\"},{\"internalType\":\"int256\",\"name\":\"answer\",\"type\":\"int256\"},{\"internalType\":\"uint256\",\"name\":\"startedAt\",\"type\":\"uint256\"},{\"internalType\":\"uint256\",\"name\":\"updatedAt\",\"type\":\"uint256\"},{\"internalType\":\"uint80\",\"name\":\"answeredInRound\",\"type\":\"uint80\"}],\"stateMutability\":\"view\",\"type\":\"function\"},{\"inputs\":[],\"name\":\"version\",\"outputs\":[{\"internalType\":\"uint256\",\"name\":\"\",\"type\":\"uint256\"}],\"stateMutability\":\"view\",\"type\":\"function\"}]'\n",
    "\n",
    "\n",
    "web3 = Web3(Web3.WebsocketProvider(alchemy_websocket_std))\n",
    "\n",
    "eth_usd = '0x5f4eC3Df9cbd43714FE2740f5E3616155c5b8419'\n",
    "\n",
    "# Set up contract instance\n",
    "contract = web3.eth.contract(address=eth_usd, abi=abi)\n",
    "\n",
    "\n",
    "provider = ZkSyncProviderV01(provider=HttpJsonRPCTransport(network=network.mainnet))\n",
    "\n"
   ]
  },
  {
   "cell_type": "code",
   "execution_count": null,
   "metadata": {},
   "outputs": [],
   "source": [
    "#Loading up dataset\n",
    "sybil_data = pd.read_csv('data/hackathon-contributions-dataset_v2.csv')"
   ]
  },
  {
   "cell_type": "code",
   "execution_count": null,
   "metadata": {},
   "outputs": [],
   "source": [
    "#Previewing Data\n",
    "sybil_data.head(3)"
   ]
  },
  {
   "cell_type": "code",
   "execution_count": null,
   "metadata": {},
   "outputs": [],
   "source": [
    "sybil_data.shape"
   ]
  },
  {
   "cell_type": "code",
   "execution_count": null,
   "metadata": {},
   "outputs": [],
   "source": [
    "sybil_data.info()"
   ]
  },
  {
   "cell_type": "code",
   "execution_count": null,
   "metadata": {},
   "outputs": [],
   "source": [
    "#Removing instances of missing addresses or chains\n",
    "sybil_data.dropna(inplace=True)"
   ]
  },
  {
   "cell_type": "code",
   "execution_count": null,
   "metadata": {},
   "outputs": [],
   "source": [
    "sybil_data.token.unique()"
   ]
  },
  {
   "cell_type": "code",
   "execution_count": null,
   "metadata": {},
   "outputs": [],
   "source": [
    "sybil_data.chain.unique()"
   ]
  },
  {
   "cell_type": "code",
   "execution_count": null,
   "metadata": {},
   "outputs": [],
   "source": [
    "#Label encoding tokens\n",
    "sybil_data = sybil_data.assign(token = le.fit_transform(sybil_data[\"token\"]))"
   ]
  },
  {
   "cell_type": "code",
   "execution_count": null,
   "metadata": {},
   "outputs": [],
   "source": [
    "#Feature Selection\n",
    "sybil_data = sybil_data[['address','grant_id','txn_hash','timestamp','chain','network','token']]\n",
    "\n",
    "#Duplicates removing\n",
    "sybil_data.drop_duplicates(inplace = True)"
   ]
  },
  {
   "cell_type": "code",
   "execution_count": null,
   "metadata": {},
   "outputs": [],
   "source": [
    "#Counting the grants Funded\n",
    "sybil_data['No_Grants_Funded'] = sybil_data.groupby('address')['address'].transform('count')"
   ]
  },
  {
   "cell_type": "code",
   "execution_count": null,
   "metadata": {},
   "outputs": [],
   "source": [
    "#Feature restructuring\n",
    "Feature_Columns = sybil_data.drop(['txn_hash'],axis = 1)"
   ]
  },
  {
   "cell_type": "code",
   "execution_count": null,
   "metadata": {},
   "outputs": [],
   "source": [
    "#Getting unique addresses by removing instances of duplicate addresses\n",
    "Feature_Columns.drop_duplicates(subset=['address'], inplace = True)"
   ]
  },
  {
   "cell_type": "code",
   "execution_count": null,
   "metadata": {},
   "outputs": [],
   "source": [
    "#Separating addresses by chain\n",
    "eth_std_rinkeby_addresses = list(Feature_Columns['address'].loc[(Feature_Columns['network']=='rinkeby')&(Feature_Columns['chain']=='eth_std')])\n",
    "eth_std_mainnet_addresses = list(Feature_Columns['address'].loc[(Feature_Columns['network']=='mainnet')&(Feature_Columns['chain']=='eth_std')])\n",
    "eth_polygon_addresses = list(Feature_Columns.address.loc[Feature_Columns['chain']=='eth_polygon'])\n",
    "eth_zksync_addresses = list(Feature_Columns.address.loc[Feature_Columns['chain']=='eth_zksync'])\n"
   ]
  },
  {
   "cell_type": "code",
   "execution_count": null,
   "metadata": {},
   "outputs": [],
   "source": [
    "#Calling the Data fetching function on the addresses\n",
    "#Note: Due to the volume of address, this cell may take a long time to operate.\n",
    "get_address_info(eth_std_mainnet_addresses,eth_std_rinkeby_addresses,eth_polygon_addresses,eth_zksync_addresses)"
   ]
  },
  {
   "cell_type": "code",
   "execution_count": null,
   "metadata": {},
   "outputs": [],
   "source": [
    "#Loading the address information\n",
    "address_info = pd.read_csv('data/address_info.csv')"
   ]
  },
  {
   "cell_type": "code",
   "execution_count": null,
   "metadata": {},
   "outputs": [],
   "source": [
    "#Merging the address_information with the Preprocessed Gr_15 data\n",
    "Features = pd.merge(Feature_Columns, address_info, on = \"address\", how = 'inner')"
   ]
  },
  {
   "cell_type": "markdown",
   "metadata": {},
   "source": [
    "Allocating_points to Address & Classification of Addresses based on AcquiredPoints"
   ]
  },
  {
   "cell_type": "code",
   "execution_count": null,
   "metadata": {},
   "outputs": [],
   "source": [
    "#Note: Due to the volume of address, this cell may take a long time to operate.\n",
    "\n",
    "Acquired_points = 0\n",
    "Funding_points = 0\n",
    "transacting_points = 0\n",
    "balance_points = 0\n",
    "sybils_addresses = []\n",
    "review_addresses = []\n",
    "\n",
    "\n",
    "def point_allocator():\n",
    "    for i in list(Features.address):\n",
    "        Funding_count = int(Features.No_Grants_Funded.loc[Features['address']==i])\n",
    "        no_transactions = int(Features.txn_count.loc[Features['address']==i])\n",
    "        current_balance =  float(Features.balance_in_eth.loc[Features['address']==i])\n",
    "        if Funding_count ==1:\n",
    "            Funding_points =+1\n",
    "\n",
    "        elif Funding_count <=4:\n",
    "            Funding_points =+ 2\n",
    "\n",
    "        else:\n",
    "            Funding_points =3.33\n",
    "\n",
    "        if no_transactions <=3:\n",
    "            transacting_points =+1\n",
    "\n",
    "        elif no_transactions <=5:\n",
    "            transacting_points =+ 2\n",
    "\n",
    "        else:\n",
    "            transacting_points =+ 4.45\n",
    "\n",
    "        if current_balance <=0.000547:\n",
    "            balance_points =+1\n",
    "\n",
    "        elif current_balance <=0.004721:\n",
    "            balance_points =+ 2\n",
    "\n",
    "        else:\n",
    "            balance_points =+ 2.22\n",
    "\n",
    "        Acquired_points = round(Funding_points+transacting_points+balance_points,2)\n",
    "        if Acquired_points >= 6.6:\n",
    "            pass\n",
    "        elif Acquired_points >= 5.5 and Acquired_points <= 6.5:\n",
    "            review_addresses.append(i)\n",
    "        else:\n",
    "            sybils_addresses.append(i)\n",
    "\n",
    "        \n",
    "\n",
    "point_allocator()"
   ]
  },
  {
   "cell_type": "code",
   "execution_count": null,
   "metadata": {},
   "outputs": [],
   "source": [
    "#Creating textfiles for review and sybil addresses\n",
    "\n",
    "with open('review_addresses', 'w') as ra: #Review\n",
    "    for item in review_addresses:\n",
    "        ra.write(\"%s\\n\" % item)\n",
    "    print('Done')\n",
    "ra.close()\n",
    "\n",
    "with open('sybil_addresses', 'w') as sa: #Sybil\n",
    "    for item in sybils_addresses:\n",
    "        sa.write(\"%s\\n\" % item)\n",
    "    print('Done')\n",
    "sa.close()"
   ]
  },
  {
   "cell_type": "markdown",
   "metadata": {},
   "source": [
    "Real-time Point System"
   ]
  },
  {
   "cell_type": "code",
   "execution_count": null,
   "metadata": {},
   "outputs": [],
   "source": [
    "def Point_System(addresses):\n",
    "    Price_Feed = contract.functions.latestRoundData().call()[1] / 10**8\n",
    "    for address in addresses:\n",
    "        Acquired_points = 0\n",
    "        Funding_points = 0\n",
    "        transacting_points = 0\n",
    "        balance_points = 0\n",
    "        Funding_count = sybil_data['address'].loc[sybil_data['address'] == address].count()\n",
    "        checksum_address = Web3.toChecksumAddress(address)   \n",
    "\n",
    "\n",
    "        if address in list(Feature_Columns['address'].loc[Feature_Columns['chain']=='eth_std']):\n",
    "            no_transactions = w3_eth.eth.get_transaction_count(checksum_address)\n",
    "            current_balance = w3_eth.eth.get_balance(checksum_address)/10**18\n",
    "            print('eth_std')\n",
    "\n",
    "\n",
    "        elif address in list(Feature_Columns['address'].loc[Feature_Columns['chain']=='eth_polygon']):\n",
    "            no_transactions = w3_poly.eth.get_transaction_count(checksum_address)\n",
    "            current_balance = w3_poly.eth.get_balance(checksum_address)/10**18\n",
    "            print('eth_polygon')\n",
    "\n",
    "\n",
    "        else:                    \n",
    "            async def zksync(zk_addresses):               \n",
    "                no_transactions = await provider.get_account_nonce(address=address)\n",
    "                account_state = (await provider.get_state(address))\n",
    "                if no_transactions == 0:\n",
    "                    no_transactions = w3_eth.eth.get_transaction_count(checksum_address)\n",
    "                    current_balance = w3_eth.eth.get_balance(checksum_address)/10**18\n",
    "                    print('eth_std_to_zksync')\n",
    "\n",
    "                    if no_transactions == 0:\n",
    "                        no_transactions = w3_poly.eth.get_transaction_count(checksum_address)\n",
    "                        current_balance = w3_poly.eth.get_balance(checksum_address)/10**18\n",
    "                        print('eth_poly_to_zksync')\n",
    "\n",
    "                    else:\n",
    "                        pass\n",
    "\n",
    "                else:\n",
    "                    pass\n",
    "\n",
    "                \n",
    "                if 'ETH' and 'USDT' and 'USDC' in account_state.verified.balances.keys():\n",
    "                    balance_in_USDT = account_state.verified.balances['USDT']/10**6\n",
    "                    balance_in_USDC = account_state.verified.balances['USDC']/10**6\n",
    "                    balance_in_gwei = account_state.verified.balances['ETH']/ 10**18\n",
    "                    USDT_to_Eth = balance_in_USDT/Price_Feed\n",
    "                    USDC_to_Eth = balance_in_USDC/Price_Feed\n",
    "                    current_balance = balance_in_gwei+USDT_to_Eth+USDC_to_Eth\n",
    "                    print('zksync') \n",
    "                elif 'ETH' and 'USDC' in account_state.verified.balances.keys():\n",
    "                    balance_in_USDC = account_state.verified.balances['USDC']/10**6\n",
    "                    balance_in_gwei = account_state.verified.balances['ETH']/ 10**18\n",
    "                    USDC_to_Eth = balance_in_USDC/Price_Feed\n",
    "                    current_balance = balance_in_gwei+USDC_to_Eth\n",
    "                    print('zksync') \n",
    "\n",
    "                elif 'ETH' and 'USDT' in account_state.verified.balances.keys():\n",
    "                    balance_in_USDT = account_state.verified.balances['USDT']/10**6\n",
    "                    balance_in_gwei = account_state.verified.balances['ETH']/ 10**18\n",
    "                    USDT_to_Eth = balance_in_USDT/Price_Feed\n",
    "                    current_balance = balance_in_gwei+USDT_to_Eth\n",
    "                    print('zksync') \n",
    "\n",
    "                elif 'USDC' in account_state.verified.balances.keys():\n",
    "                    balance_in_USDC = account_state.verified.balances['ETH']/10**6\n",
    "                    current_balance = balance_in_USDC/Price_Feed\n",
    "                    print('zksync') \n",
    "\n",
    "                elif 'ETH' in account_state.verified.balances.keys():\n",
    "                    balance_in_gwei = account_state.verified.balances['ETH']\n",
    "                    current_balance = balance_in_gwei/ 10**18\n",
    "                    print('zksync') \n",
    "                elif 'USDT' in account_state.verified.balances.keys():\n",
    "                    balance_in_USDT = account_state.verified.balances['USDT']/10**6\n",
    "                    current_balance = balance_in_USDT/Price_Feed\n",
    "                    print('zksync') \n",
    "                else:\n",
    "                    current_balance = 0\n",
    "                return no_transactions,current_balance\n",
    "            no_transactions,current_balance = asyncio.run(zksync(address))\n",
    "\n",
    "        if Funding_count ==1:\n",
    "            Funding_points =+1\n",
    "\n",
    "        elif Funding_count <=4:\n",
    "            Funding_points =+ 2\n",
    "\n",
    "        else:\n",
    "            Funding_points =3.33\n",
    "\n",
    "        if no_transactions <=3:\n",
    "            transacting_points =+1\n",
    "\n",
    "        elif no_transactions <=5:\n",
    "            transacting_points =+ 2\n",
    "\n",
    "        else:\n",
    "            transacting_points =+ 4.45\n",
    "\n",
    "        if current_balance <=0.000547:\n",
    "            balance_points =+1\n",
    "\n",
    "        elif current_balance <=0.004721:\n",
    "            balance_points =+ 2\n",
    "\n",
    "        else:\n",
    "            balance_points =+ 2.22\n",
    "\n",
    "        Acquired_points = round(Funding_points+transacting_points+balance_points,2)\n",
    "        if Acquired_points >= 6.6:\n",
    "            print('Non_Sybil')\n",
    "        elif Acquired_points >= 5.5 and Acquired_points <= 6.5:\n",
    "            print('Needs human Review')\n",
    "        else:\n",
    "            print('sybil')\n",
    "\n",
    "\n",
    "\n",
    "\n",
    "Point_System(addresses)#Enter an array of addresses"
   ]
  }
 ],
 "metadata": {
  "kernelspec": {
   "display_name": "Python 3.9.6 ('Data_Science')",
   "language": "python",
   "name": "python3"
  },
  "language_info": {
   "codemirror_mode": {
    "name": "ipython",
    "version": 3
   },
   "file_extension": ".py",
   "mimetype": "text/x-python",
   "name": "python",
   "nbconvert_exporter": "python",
   "pygments_lexer": "ipython3",
   "version": "3.9.6"
  },
  "orig_nbformat": 4,
  "vscode": {
   "interpreter": {
    "hash": "90edbe0ecafa95c44824f82c10c5cd4c5cdd00e4ee4ae82c3c51b97a69c436aa"
   }
  }
 },
 "nbformat": 4,
 "nbformat_minor": 2
}
